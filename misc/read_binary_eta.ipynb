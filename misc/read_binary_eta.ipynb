{
 "cells": [
  {
   "cell_type": "markdown",
   "metadata": {
    "collapsed": false
   },
   "source": [
    "## Reading binary eta from c++ program"
   ]
  },
  {
   "cell_type": "code",
   "execution_count": 9,
   "metadata": {
    "collapsed": false
   },
   "outputs": [],
   "source": [
    "import numpy as np\n",
    "import matplotlib.pyplot as plt\n",
    "\n",
    "filepath = \"../output/initial_conf.bin\"\n",
    "nx = 1024\n",
    "ny = 1024\n",
    "nc = 3\n",
    "flat = np.fromfile(filepath, dtype=np.complex128, count=-1, sep=\"\")\n",
    "eta = flat.reshape(nc, nx, ny)"
   ]
  },
  {
   "cell_type": "code",
   "execution_count": 10,
   "metadata": {
    "collapsed": false
   },
   "outputs": [],
   "source": [
    "def print_comp(eta_):\n",
    "    for i in range(nx):\n",
    "        print(\"|\", end=\"\")\n",
    "        for j in range(ny):\n",
    "            print(\"%11.4e\"%eta_[i, j], end=\"\")\n",
    "        print(\"|\")"
   ]
  },
  {
   "cell_type": "code",
   "execution_count": null,
   "metadata": {
    "collapsed": false
   },
   "outputs": [],
   "source": [
    "val = np.abs(eta[0]) + np.abs(eta[1]) + np.abs(eta[2])\n",
    "plt.pcolormesh(val)\n",
    "plt.xlim([0, nx])\n",
    "plt.ylim([0, ny])\n",
    "plt.show()"
   ]
  },
  {
   "cell_type": "code",
   "execution_count": null,
   "metadata": {
    "collapsed": false
   },
   "outputs": [],
   "source": []
  },
  {
   "cell_type": "code",
   "execution_count": null,
   "metadata": {
    "collapsed": true
   },
   "outputs": [],
   "source": []
  }
 ],
 "metadata": {
  "anaconda-cloud": {},
  "kernelspec": {
   "display_name": "Python [default]",
   "language": "python",
   "name": "python3"
  },
  "language_info": {
   "codemirror_mode": {
    "name": "ipython",
    "version": 3
   },
   "file_extension": ".py",
   "mimetype": "text/x-python",
   "name": "python",
   "nbconvert_exporter": "python",
   "pygments_lexer": "ipython3",
   "version": "3.5.2"
  }
 },
 "nbformat": 4,
 "nbformat_minor": 0
}
